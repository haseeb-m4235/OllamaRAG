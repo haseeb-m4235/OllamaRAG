{
 "cells": [
  {
   "cell_type": "code",
   "execution_count": 4,
   "metadata": {},
   "outputs": [],
   "source": [
    "from langchain_text_splitters import RecursiveCharacterTextSplitter\n",
    "from langchain_community.document_loaders import PyPDFLoader\n",
    "from langchain_chroma import Chroma\n",
    "from langchain_ollama import OllamaEmbeddings\n",
    "from langchain_ollama import ChatOllama\n",
    "from langchain_core.runnables import RunnablePassthrough\n",
    "from langchain_core.output_parsers import StrOutputParser\n",
    "from langchain_core.prompts import ChatPromptTemplate"
   ]
  },
  {
   "cell_type": "code",
   "execution_count": 2,
   "metadata": {},
   "outputs": [],
   "source": [
    "reader = PyPDFLoader(\"C:\\\\Users\\\\hasee\\\\Desktop\\\\Chabot\\\\geminiChromaRAG\\\\Employee Handbook.pdf\")\n",
    "reader = reader.load()\n",
    "text_splitter = RecursiveCharacterTextSplitter(chunk_size=500, chunk_overlap=0)\n",
    "all_splits = text_splitter.split_documents(reader)"
   ]
  },
  {
   "cell_type": "code",
   "execution_count": 3,
   "metadata": {},
   "outputs": [],
   "source": [
    "local_embeddings = OllamaEmbeddings(model=\"nomic-embed-text\")"
   ]
  },
  {
   "cell_type": "code",
   "execution_count": 5,
   "metadata": {},
   "outputs": [],
   "source": [
    "vectorstore = Chroma.from_documents(documents=all_splits, embedding=local_embeddings, persist_directory=\"C:\\\\Users\\\\hasee\\\\Desktop\\\\Chabot\\\\OllamaRAG\\\\vdb\")"
   ]
  },
  {
   "cell_type": "code",
   "execution_count": 5,
   "metadata": {},
   "outputs": [],
   "source": [
    "vectorstore_client = Chroma(persist_directory=\"C:\\\\Users\\\\hasee\\\\Desktop\\\\Chabot\\\\OllamaRAG\\\\vdb\", embedding_function=local_embeddings)"
   ]
  },
  {
   "cell_type": "code",
   "execution_count": 6,
   "metadata": {},
   "outputs": [
    {
     "name": "stdout",
     "output_type": "stream",
     "text": [
      "[Document(metadata={'page': 5, 'source': 'C:\\\\Users\\\\hasee\\\\Desktop\\\\Chabot\\\\geminiChromaRAG\\\\Employee Handbook.pdf'}, page_content='the\\nEmployee\\nhas\\nsuch\\nan\\nillness.\\nh.\\nSmoking\\nPolicy\\nOur\\ngoal\\nis\\nto\\nprovide\\na\\nhealthy\\nand\\npleasant\\nwork\\nenvironment\\nfor\\nall\\nemployees.\\nCompany\\nprohibits\\nany\\nform\\nof\\ntobacco\\nuse\\non\\nCompany\\npremises.\\nSmoking\\nis\\nonly\\nallowed\\nin\\nprivate\\nvehicles\\n25\\nfeet\\naway\\nfrom\\nbuilding.\\nIf\\nyour\\njob\\nis\\noutside,\\nand\\nyou\\ncontinue\\nto\\nwork\\nefficiently\\nwhile\\nsmoking,\\nyou\\ndo\\nnot\\nneed\\nto\\npunch\\nout\\nwhile\\nsmoking.\\nHowever ,\\nif\\nyou\\nare\\nworking\\ninside\\nor\\ncan\\nnot\\ncontinue\\nto\\nwork\\nwhile\\nsmoking,\\nthen\\nyou\\nmust\\npunch\\nout\\nwhile'), Document(metadata={'page': 5, 'source': 'C:\\\\Users\\\\hasee\\\\Desktop\\\\Chabot\\\\geminiChromaRAG\\\\Employee Handbook.pdf'}, page_content='smoking\\nor\\nyou\\nwill\\nbe\\nterminated\\nimmediately .\\nIf\\nyou\\nare\\nin\\na\\nposition\\nof\\ncustomer\\nservice\\nthat\\nrequires\\na\\nconstant\\npresence,\\nlike\\nanswering\\nthe\\nphone\\nthen\\nyou\\ncan\\nnot\\nsmoke\\nat\\nany\\ntime\\non\\nthe\\npremises.\\ni.\\nImmigration\\nLaw\\nCompliance\\nThe\\nCompany\\ndoes\\nnot\\nunlawfully\\ndiscriminate\\non\\nthe\\nbasis\\nof\\ncitizenship\\nor\\nnational\\norigin,\\nbut\\nat\\nthe\\nsame\\ntime,\\nis\\ncommitted\\nto\\nemploying\\nonly\\nthe\\nU.S.\\ncitizens\\nand\\naliens\\nwho\\nare\\nauthorized\\nto\\nwork\\nin\\nthe\\nU.S.\\nIn\\ncompliance\\nwith\\nthe\\nImmigration\\nReform\\nand'), Document(metadata={'page': 32, 'source': 'C:\\\\Users\\\\hasee\\\\Desktop\\\\Chabot\\\\geminiChromaRAG\\\\Employee Handbook.pdf'}, page_content=\"employee's\\ntime\\ncard\\nor\\nallowing\\nanother\\nemployee\\nto\\npunch\\nyour\\ntime\\ncard.\\nvi.\\nYou\\nmust\\npunch\\nit\\nat\\nthe\\nlocation\\nwhere\\nyou\\nare\\nworking.\\nAdditionally ,\\nany\\nemployee\\nmay\\nbe\\ndischarged\\nin\\nthe\\nevent\\nof\\ncontinued\\nviolation\\nof\\nwork\\nrules.\\nImproper\\nconduct\\nmay\\nconstitute\\ngrounds\\nfor\\nthe\\nissuance\\nof\\na\\nwarning\\nbefore\\nmore\\nsevere\\ndisciplinary\\naction\\nis\\ntaken.\\nThe\\nCompany\\nhas\\na\\nfew;\\nsimple\\nrules\\nwhich\\nare\\nfundamental,\\nand\\nwhich\\nprovide\\nfor\\nthe\\nsafety\\nand\\nprotection\\nof\\nits\\nemployees.\\nCompliance\\nwith\\nthese\")]\n"
     ]
    }
   ],
   "source": [
    "question = \"smoking rules?\"\n",
    "docs = vectorstore_client.similarity_search(question, k=3)\n",
    "print(docs)"
   ]
  },
  {
   "cell_type": "markdown",
   "metadata": {},
   "source": [
    "Testing RAG\n"
   ]
  },
  {
   "cell_type": "code",
   "execution_count": 1,
   "metadata": {},
   "outputs": [],
   "source": [
    "from RAG import RAG\n",
    "rag = RAG(\"C:\\\\Users\\\\hasee\\\\Desktop\\\\Chabot\\\\OllamaRAG\\\\vdb\")"
   ]
  },
  {
   "cell_type": "code",
   "execution_count": 2,
   "metadata": {},
   "outputs": [
    {
     "ename": "AttributeError",
     "evalue": "'str' object has no attribute 'page_content'",
     "output_type": "error",
     "traceback": [
      "\u001b[1;31m---------------------------------------------------------------------------\u001b[0m",
      "\u001b[1;31mAttributeError\u001b[0m                            Traceback (most recent call last)",
      "Cell \u001b[1;32mIn[2], line 1\u001b[0m\n\u001b[1;32m----> 1\u001b[0m answer, context, docs \u001b[38;5;241m=\u001b[39m \u001b[43mrag\u001b[49m\u001b[38;5;241;43m.\u001b[39;49m\u001b[43maskQuestion\u001b[49m\u001b[43m(\u001b[49m\u001b[38;5;124;43m\"\u001b[39;49m\u001b[38;5;124;43mWhat is the smoking policy?\u001b[39;49m\u001b[38;5;124;43m\"\u001b[39;49m\u001b[43m)\u001b[49m\n",
      "File \u001b[1;32mc:\\Users\\hasee\\Desktop\\Chabot\\OllamaRAG\\RAG.py:66\u001b[0m, in \u001b[0;36mRAG.askQuestion\u001b[1;34m(self, question)\u001b[0m\n\u001b[0;32m     64\u001b[0m     context \u001b[38;5;241m+\u001b[39m\u001b[38;5;241m=\u001b[39m doc\u001b[38;5;241m.\u001b[39mpage_content\u001b[38;5;241m.\u001b[39mreplace(\u001b[38;5;124m\"\u001b[39m\u001b[38;5;130;01m\\n\u001b[39;00m\u001b[38;5;124m\"\u001b[39m, \u001b[38;5;124m\"\u001b[39m\u001b[38;5;124m \u001b[39m\u001b[38;5;124m\"\u001b[39m)\n\u001b[0;32m     65\u001b[0m     context \u001b[38;5;241m+\u001b[39m\u001b[38;5;241m=\u001b[39m \u001b[38;5;124m\"\u001b[39m\u001b[38;5;130;01m\\n\u001b[39;00m\u001b[38;5;130;01m\\n\u001b[39;00m\u001b[38;5;124m\"\u001b[39m\n\u001b[1;32m---> 66\u001b[0m answer \u001b[38;5;241m=\u001b[39m \u001b[38;5;28;43mself\u001b[39;49m\u001b[38;5;241;43m.\u001b[39;49m\u001b[43mchain\u001b[49m\u001b[38;5;241;43m.\u001b[39;49m\u001b[43minvoke\u001b[49m\u001b[43m(\u001b[49m\u001b[43m{\u001b[49m\u001b[38;5;124;43m\"\u001b[39;49m\u001b[38;5;124;43mcontext\u001b[39;49m\u001b[38;5;124;43m\"\u001b[39;49m\u001b[43m:\u001b[49m\u001b[43m \u001b[49m\u001b[43mcontext\u001b[49m\u001b[43m,\u001b[49m\u001b[43m \u001b[49m\u001b[38;5;124;43m\"\u001b[39;49m\u001b[38;5;124;43mquestion\u001b[39;49m\u001b[38;5;124;43m\"\u001b[39;49m\u001b[43m:\u001b[49m\u001b[43m \u001b[49m\u001b[43mquestion\u001b[49m\u001b[43m}\u001b[49m\u001b[43m)\u001b[49m\n\u001b[0;32m     67\u001b[0m \u001b[38;5;28;01mreturn\u001b[39;00m answer, context, docs\n",
      "File \u001b[1;32mc:\\Users\\hasee\\miniconda3\\envs\\rag\\lib\\site-packages\\langchain_core\\runnables\\base.py:3020\u001b[0m, in \u001b[0;36mRunnableSequence.invoke\u001b[1;34m(self, input, config, **kwargs)\u001b[0m\n\u001b[0;32m   3018\u001b[0m context\u001b[38;5;241m.\u001b[39mrun(_set_config_context, config)\n\u001b[0;32m   3019\u001b[0m \u001b[38;5;28;01mif\u001b[39;00m i \u001b[38;5;241m==\u001b[39m \u001b[38;5;241m0\u001b[39m:\n\u001b[1;32m-> 3020\u001b[0m     \u001b[38;5;28minput\u001b[39m \u001b[38;5;241m=\u001b[39m context\u001b[38;5;241m.\u001b[39mrun(step\u001b[38;5;241m.\u001b[39minvoke, \u001b[38;5;28minput\u001b[39m, config, \u001b[38;5;241m*\u001b[39m\u001b[38;5;241m*\u001b[39mkwargs)\n\u001b[0;32m   3021\u001b[0m \u001b[38;5;28;01melse\u001b[39;00m:\n\u001b[0;32m   3022\u001b[0m     \u001b[38;5;28minput\u001b[39m \u001b[38;5;241m=\u001b[39m context\u001b[38;5;241m.\u001b[39mrun(step\u001b[38;5;241m.\u001b[39minvoke, \u001b[38;5;28minput\u001b[39m, config)\n",
      "File \u001b[1;32mc:\\Users\\hasee\\miniconda3\\envs\\rag\\lib\\site-packages\\langchain_core\\runnables\\passthrough.py:494\u001b[0m, in \u001b[0;36mRunnableAssign.invoke\u001b[1;34m(self, input, config, **kwargs)\u001b[0m\n\u001b[0;32m    488\u001b[0m \u001b[38;5;28;01mdef\u001b[39;00m \u001b[38;5;21minvoke\u001b[39m(\n\u001b[0;32m    489\u001b[0m     \u001b[38;5;28mself\u001b[39m,\n\u001b[0;32m    490\u001b[0m     \u001b[38;5;28minput\u001b[39m: \u001b[38;5;28mdict\u001b[39m[\u001b[38;5;28mstr\u001b[39m, Any],\n\u001b[0;32m    491\u001b[0m     config: Optional[RunnableConfig] \u001b[38;5;241m=\u001b[39m \u001b[38;5;28;01mNone\u001b[39;00m,\n\u001b[0;32m    492\u001b[0m     \u001b[38;5;241m*\u001b[39m\u001b[38;5;241m*\u001b[39mkwargs: Any,\n\u001b[0;32m    493\u001b[0m ) \u001b[38;5;241m-\u001b[39m\u001b[38;5;241m>\u001b[39m \u001b[38;5;28mdict\u001b[39m[\u001b[38;5;28mstr\u001b[39m, Any]:\n\u001b[1;32m--> 494\u001b[0m     \u001b[38;5;28;01mreturn\u001b[39;00m \u001b[38;5;28mself\u001b[39m\u001b[38;5;241m.\u001b[39m_call_with_config(\u001b[38;5;28mself\u001b[39m\u001b[38;5;241m.\u001b[39m_invoke, \u001b[38;5;28minput\u001b[39m, config, \u001b[38;5;241m*\u001b[39m\u001b[38;5;241m*\u001b[39mkwargs)\n",
      "File \u001b[1;32mc:\\Users\\hasee\\miniconda3\\envs\\rag\\lib\\site-packages\\langchain_core\\runnables\\base.py:1923\u001b[0m, in \u001b[0;36mRunnable._call_with_config\u001b[1;34m(self, func, input, config, run_type, serialized, **kwargs)\u001b[0m\n\u001b[0;32m   1919\u001b[0m     context \u001b[38;5;241m=\u001b[39m copy_context()\n\u001b[0;32m   1920\u001b[0m     context\u001b[38;5;241m.\u001b[39mrun(_set_config_context, child_config)\n\u001b[0;32m   1921\u001b[0m     output \u001b[38;5;241m=\u001b[39m cast(\n\u001b[0;32m   1922\u001b[0m         Output,\n\u001b[1;32m-> 1923\u001b[0m         context\u001b[38;5;241m.\u001b[39mrun(\n\u001b[0;32m   1924\u001b[0m             call_func_with_variable_args,  \u001b[38;5;66;03m# type: ignore[arg-type]\u001b[39;00m\n\u001b[0;32m   1925\u001b[0m             func,  \u001b[38;5;66;03m# type: ignore[arg-type]\u001b[39;00m\n\u001b[0;32m   1926\u001b[0m             \u001b[38;5;28minput\u001b[39m,  \u001b[38;5;66;03m# type: ignore[arg-type]\u001b[39;00m\n\u001b[0;32m   1927\u001b[0m             config,\n\u001b[0;32m   1928\u001b[0m             run_manager,\n\u001b[0;32m   1929\u001b[0m             \u001b[38;5;241m*\u001b[39m\u001b[38;5;241m*\u001b[39mkwargs,\n\u001b[0;32m   1930\u001b[0m         ),\n\u001b[0;32m   1931\u001b[0m     )\n\u001b[0;32m   1932\u001b[0m \u001b[38;5;28;01mexcept\u001b[39;00m \u001b[38;5;167;01mBaseException\u001b[39;00m \u001b[38;5;28;01mas\u001b[39;00m e:\n\u001b[0;32m   1933\u001b[0m     run_manager\u001b[38;5;241m.\u001b[39mon_chain_error(e)\n",
      "File \u001b[1;32mc:\\Users\\hasee\\miniconda3\\envs\\rag\\lib\\site-packages\\langchain_core\\runnables\\config.py:396\u001b[0m, in \u001b[0;36mcall_func_with_variable_args\u001b[1;34m(func, input, config, run_manager, **kwargs)\u001b[0m\n\u001b[0;32m    394\u001b[0m \u001b[38;5;28;01mif\u001b[39;00m run_manager \u001b[38;5;129;01mis\u001b[39;00m \u001b[38;5;129;01mnot\u001b[39;00m \u001b[38;5;28;01mNone\u001b[39;00m \u001b[38;5;129;01mand\u001b[39;00m accepts_run_manager(func):\n\u001b[0;32m    395\u001b[0m     kwargs[\u001b[38;5;124m\"\u001b[39m\u001b[38;5;124mrun_manager\u001b[39m\u001b[38;5;124m\"\u001b[39m] \u001b[38;5;241m=\u001b[39m run_manager\n\u001b[1;32m--> 396\u001b[0m \u001b[38;5;28;01mreturn\u001b[39;00m func(\u001b[38;5;28minput\u001b[39m, \u001b[38;5;241m*\u001b[39m\u001b[38;5;241m*\u001b[39mkwargs)\n",
      "File \u001b[1;32mc:\\Users\\hasee\\miniconda3\\envs\\rag\\lib\\site-packages\\langchain_core\\runnables\\passthrough.py:481\u001b[0m, in \u001b[0;36mRunnableAssign._invoke\u001b[1;34m(self, input, run_manager, config, **kwargs)\u001b[0m\n\u001b[0;32m    468\u001b[0m \u001b[38;5;28;01mdef\u001b[39;00m \u001b[38;5;21m_invoke\u001b[39m(\n\u001b[0;32m    469\u001b[0m     \u001b[38;5;28mself\u001b[39m,\n\u001b[0;32m    470\u001b[0m     \u001b[38;5;28minput\u001b[39m: \u001b[38;5;28mdict\u001b[39m[\u001b[38;5;28mstr\u001b[39m, Any],\n\u001b[1;32m   (...)\u001b[0m\n\u001b[0;32m    473\u001b[0m     \u001b[38;5;241m*\u001b[39m\u001b[38;5;241m*\u001b[39mkwargs: Any,\n\u001b[0;32m    474\u001b[0m ) \u001b[38;5;241m-\u001b[39m\u001b[38;5;241m>\u001b[39m \u001b[38;5;28mdict\u001b[39m[\u001b[38;5;28mstr\u001b[39m, Any]:\n\u001b[0;32m    475\u001b[0m     \u001b[38;5;28;01massert\u001b[39;00m \u001b[38;5;28misinstance\u001b[39m(\n\u001b[0;32m    476\u001b[0m         \u001b[38;5;28minput\u001b[39m, \u001b[38;5;28mdict\u001b[39m\n\u001b[0;32m    477\u001b[0m     ), \u001b[38;5;124m\"\u001b[39m\u001b[38;5;124mThe input to RunnablePassthrough.assign() must be a dict.\u001b[39m\u001b[38;5;124m\"\u001b[39m\n\u001b[0;32m    479\u001b[0m     \u001b[38;5;28;01mreturn\u001b[39;00m {\n\u001b[0;32m    480\u001b[0m         \u001b[38;5;241m*\u001b[39m\u001b[38;5;241m*\u001b[39m\u001b[38;5;28minput\u001b[39m,\n\u001b[1;32m--> 481\u001b[0m         \u001b[38;5;241m*\u001b[39m\u001b[38;5;241m*\u001b[39m\u001b[38;5;28mself\u001b[39m\u001b[38;5;241m.\u001b[39mmapper\u001b[38;5;241m.\u001b[39minvoke(\n\u001b[0;32m    482\u001b[0m             \u001b[38;5;28minput\u001b[39m,\n\u001b[0;32m    483\u001b[0m             patch_config(config, callbacks\u001b[38;5;241m=\u001b[39mrun_manager\u001b[38;5;241m.\u001b[39mget_child()),\n\u001b[0;32m    484\u001b[0m             \u001b[38;5;241m*\u001b[39m\u001b[38;5;241m*\u001b[39mkwargs,\n\u001b[0;32m    485\u001b[0m         ),\n\u001b[0;32m    486\u001b[0m     }\n",
      "File \u001b[1;32mc:\\Users\\hasee\\miniconda3\\envs\\rag\\lib\\site-packages\\langchain_core\\runnables\\base.py:3723\u001b[0m, in \u001b[0;36mRunnableParallel.invoke\u001b[1;34m(self, input, config)\u001b[0m\n\u001b[0;32m   3718\u001b[0m     \u001b[38;5;28;01mwith\u001b[39;00m get_executor_for_config(config) \u001b[38;5;28;01mas\u001b[39;00m executor:\n\u001b[0;32m   3719\u001b[0m         futures \u001b[38;5;241m=\u001b[39m [\n\u001b[0;32m   3720\u001b[0m             executor\u001b[38;5;241m.\u001b[39msubmit(_invoke_step, step, \u001b[38;5;28minput\u001b[39m, config, key)\n\u001b[0;32m   3721\u001b[0m             \u001b[38;5;28;01mfor\u001b[39;00m key, step \u001b[38;5;129;01min\u001b[39;00m steps\u001b[38;5;241m.\u001b[39mitems()\n\u001b[0;32m   3722\u001b[0m         ]\n\u001b[1;32m-> 3723\u001b[0m         output \u001b[38;5;241m=\u001b[39m {key: future\u001b[38;5;241m.\u001b[39mresult() \u001b[38;5;28;01mfor\u001b[39;00m key, future \u001b[38;5;129;01min\u001b[39;00m \u001b[38;5;28mzip\u001b[39m(steps, futures)}\n\u001b[0;32m   3724\u001b[0m \u001b[38;5;66;03m# finish the root run\u001b[39;00m\n\u001b[0;32m   3725\u001b[0m \u001b[38;5;28;01mexcept\u001b[39;00m \u001b[38;5;167;01mBaseException\u001b[39;00m \u001b[38;5;28;01mas\u001b[39;00m e:\n",
      "File \u001b[1;32mc:\\Users\\hasee\\miniconda3\\envs\\rag\\lib\\site-packages\\langchain_core\\runnables\\base.py:3723\u001b[0m, in \u001b[0;36m<dictcomp>\u001b[1;34m(.0)\u001b[0m\n\u001b[0;32m   3718\u001b[0m     \u001b[38;5;28;01mwith\u001b[39;00m get_executor_for_config(config) \u001b[38;5;28;01mas\u001b[39;00m executor:\n\u001b[0;32m   3719\u001b[0m         futures \u001b[38;5;241m=\u001b[39m [\n\u001b[0;32m   3720\u001b[0m             executor\u001b[38;5;241m.\u001b[39msubmit(_invoke_step, step, \u001b[38;5;28minput\u001b[39m, config, key)\n\u001b[0;32m   3721\u001b[0m             \u001b[38;5;28;01mfor\u001b[39;00m key, step \u001b[38;5;129;01min\u001b[39;00m steps\u001b[38;5;241m.\u001b[39mitems()\n\u001b[0;32m   3722\u001b[0m         ]\n\u001b[1;32m-> 3723\u001b[0m         output \u001b[38;5;241m=\u001b[39m {key: \u001b[43mfuture\u001b[49m\u001b[38;5;241;43m.\u001b[39;49m\u001b[43mresult\u001b[49m\u001b[43m(\u001b[49m\u001b[43m)\u001b[49m \u001b[38;5;28;01mfor\u001b[39;00m key, future \u001b[38;5;129;01min\u001b[39;00m \u001b[38;5;28mzip\u001b[39m(steps, futures)}\n\u001b[0;32m   3724\u001b[0m \u001b[38;5;66;03m# finish the root run\u001b[39;00m\n\u001b[0;32m   3725\u001b[0m \u001b[38;5;28;01mexcept\u001b[39;00m \u001b[38;5;167;01mBaseException\u001b[39;00m \u001b[38;5;28;01mas\u001b[39;00m e:\n",
      "File \u001b[1;32mc:\\Users\\hasee\\miniconda3\\envs\\rag\\lib\\concurrent\\futures\\_base.py:451\u001b[0m, in \u001b[0;36mFuture.result\u001b[1;34m(self, timeout)\u001b[0m\n\u001b[0;32m    449\u001b[0m     \u001b[38;5;28;01mraise\u001b[39;00m CancelledError()\n\u001b[0;32m    450\u001b[0m \u001b[38;5;28;01melif\u001b[39;00m \u001b[38;5;28mself\u001b[39m\u001b[38;5;241m.\u001b[39m_state \u001b[38;5;241m==\u001b[39m FINISHED:\n\u001b[1;32m--> 451\u001b[0m     \u001b[38;5;28;01mreturn\u001b[39;00m \u001b[38;5;28;43mself\u001b[39;49m\u001b[38;5;241;43m.\u001b[39;49m\u001b[43m__get_result\u001b[49m\u001b[43m(\u001b[49m\u001b[43m)\u001b[49m\n\u001b[0;32m    453\u001b[0m \u001b[38;5;28mself\u001b[39m\u001b[38;5;241m.\u001b[39m_condition\u001b[38;5;241m.\u001b[39mwait(timeout)\n\u001b[0;32m    455\u001b[0m \u001b[38;5;28;01mif\u001b[39;00m \u001b[38;5;28mself\u001b[39m\u001b[38;5;241m.\u001b[39m_state \u001b[38;5;129;01min\u001b[39;00m [CANCELLED, CANCELLED_AND_NOTIFIED]:\n",
      "File \u001b[1;32mc:\\Users\\hasee\\miniconda3\\envs\\rag\\lib\\concurrent\\futures\\_base.py:403\u001b[0m, in \u001b[0;36mFuture.__get_result\u001b[1;34m(self)\u001b[0m\n\u001b[0;32m    401\u001b[0m \u001b[38;5;28;01mif\u001b[39;00m \u001b[38;5;28mself\u001b[39m\u001b[38;5;241m.\u001b[39m_exception:\n\u001b[0;32m    402\u001b[0m     \u001b[38;5;28;01mtry\u001b[39;00m:\n\u001b[1;32m--> 403\u001b[0m         \u001b[38;5;28;01mraise\u001b[39;00m \u001b[38;5;28mself\u001b[39m\u001b[38;5;241m.\u001b[39m_exception\n\u001b[0;32m    404\u001b[0m     \u001b[38;5;28;01mfinally\u001b[39;00m:\n\u001b[0;32m    405\u001b[0m         \u001b[38;5;66;03m# Break a reference cycle with the exception in self._exception\u001b[39;00m\n\u001b[0;32m    406\u001b[0m         \u001b[38;5;28mself\u001b[39m \u001b[38;5;241m=\u001b[39m \u001b[38;5;28;01mNone\u001b[39;00m\n",
      "File \u001b[1;32mc:\\Users\\hasee\\miniconda3\\envs\\rag\\lib\\concurrent\\futures\\thread.py:58\u001b[0m, in \u001b[0;36m_WorkItem.run\u001b[1;34m(self)\u001b[0m\n\u001b[0;32m     55\u001b[0m     \u001b[38;5;28;01mreturn\u001b[39;00m\n\u001b[0;32m     57\u001b[0m \u001b[38;5;28;01mtry\u001b[39;00m:\n\u001b[1;32m---> 58\u001b[0m     result \u001b[38;5;241m=\u001b[39m \u001b[38;5;28mself\u001b[39m\u001b[38;5;241m.\u001b[39mfn(\u001b[38;5;241m*\u001b[39m\u001b[38;5;28mself\u001b[39m\u001b[38;5;241m.\u001b[39margs, \u001b[38;5;241m*\u001b[39m\u001b[38;5;241m*\u001b[39m\u001b[38;5;28mself\u001b[39m\u001b[38;5;241m.\u001b[39mkwargs)\n\u001b[0;32m     59\u001b[0m \u001b[38;5;28;01mexcept\u001b[39;00m \u001b[38;5;167;01mBaseException\u001b[39;00m \u001b[38;5;28;01mas\u001b[39;00m exc:\n\u001b[0;32m     60\u001b[0m     \u001b[38;5;28mself\u001b[39m\u001b[38;5;241m.\u001b[39mfuture\u001b[38;5;241m.\u001b[39mset_exception(exc)\n",
      "File \u001b[1;32mc:\\Users\\hasee\\miniconda3\\envs\\rag\\lib\\site-packages\\langchain_core\\runnables\\base.py:3707\u001b[0m, in \u001b[0;36mRunnableParallel.invoke.<locals>._invoke_step\u001b[1;34m(step, input, config, key)\u001b[0m\n\u001b[0;32m   3705\u001b[0m context \u001b[38;5;241m=\u001b[39m copy_context()\n\u001b[0;32m   3706\u001b[0m context\u001b[38;5;241m.\u001b[39mrun(_set_config_context, child_config)\n\u001b[1;32m-> 3707\u001b[0m \u001b[38;5;28;01mreturn\u001b[39;00m \u001b[43mcontext\u001b[49m\u001b[38;5;241;43m.\u001b[39;49m\u001b[43mrun\u001b[49m\u001b[43m(\u001b[49m\n\u001b[0;32m   3708\u001b[0m \u001b[43m    \u001b[49m\u001b[43mstep\u001b[49m\u001b[38;5;241;43m.\u001b[39;49m\u001b[43minvoke\u001b[49m\u001b[43m,\u001b[49m\n\u001b[0;32m   3709\u001b[0m \u001b[43m    \u001b[49m\u001b[38;5;28;43minput\u001b[39;49m\u001b[43m,\u001b[49m\n\u001b[0;32m   3710\u001b[0m \u001b[43m    \u001b[49m\u001b[43mchild_config\u001b[49m\u001b[43m,\u001b[49m\n\u001b[0;32m   3711\u001b[0m \u001b[43m\u001b[49m\u001b[43m)\u001b[49m\n",
      "File \u001b[1;32mc:\\Users\\hasee\\miniconda3\\envs\\rag\\lib\\site-packages\\langchain_core\\runnables\\base.py:4706\u001b[0m, in \u001b[0;36mRunnableLambda.invoke\u001b[1;34m(self, input, config, **kwargs)\u001b[0m\n\u001b[0;32m   4692\u001b[0m \u001b[38;5;250m\u001b[39m\u001b[38;5;124;03m\"\"\"Invoke this Runnable synchronously.\u001b[39;00m\n\u001b[0;32m   4693\u001b[0m \n\u001b[0;32m   4694\u001b[0m \u001b[38;5;124;03mArgs:\u001b[39;00m\n\u001b[1;32m   (...)\u001b[0m\n\u001b[0;32m   4703\u001b[0m \u001b[38;5;124;03m    TypeError: If the Runnable is a coroutine function.\u001b[39;00m\n\u001b[0;32m   4704\u001b[0m \u001b[38;5;124;03m\"\"\"\u001b[39;00m\n\u001b[0;32m   4705\u001b[0m \u001b[38;5;28;01mif\u001b[39;00m \u001b[38;5;28mhasattr\u001b[39m(\u001b[38;5;28mself\u001b[39m, \u001b[38;5;124m\"\u001b[39m\u001b[38;5;124mfunc\u001b[39m\u001b[38;5;124m\"\u001b[39m):\n\u001b[1;32m-> 4706\u001b[0m     \u001b[38;5;28;01mreturn\u001b[39;00m \u001b[38;5;28mself\u001b[39m\u001b[38;5;241m.\u001b[39m_call_with_config(\n\u001b[0;32m   4707\u001b[0m         \u001b[38;5;28mself\u001b[39m\u001b[38;5;241m.\u001b[39m_invoke,\n\u001b[0;32m   4708\u001b[0m         \u001b[38;5;28minput\u001b[39m,\n\u001b[0;32m   4709\u001b[0m         \u001b[38;5;28mself\u001b[39m\u001b[38;5;241m.\u001b[39m_config(config, \u001b[38;5;28mself\u001b[39m\u001b[38;5;241m.\u001b[39mfunc),\n\u001b[0;32m   4710\u001b[0m         \u001b[38;5;241m*\u001b[39m\u001b[38;5;241m*\u001b[39mkwargs,\n\u001b[0;32m   4711\u001b[0m     )\n\u001b[0;32m   4712\u001b[0m \u001b[38;5;28;01melse\u001b[39;00m:\n\u001b[0;32m   4713\u001b[0m     \u001b[38;5;28;01mraise\u001b[39;00m \u001b[38;5;167;01mTypeError\u001b[39;00m(\n\u001b[0;32m   4714\u001b[0m         \u001b[38;5;124m\"\u001b[39m\u001b[38;5;124mCannot invoke a coroutine function synchronously.\u001b[39m\u001b[38;5;124m\"\u001b[39m\n\u001b[0;32m   4715\u001b[0m         \u001b[38;5;124m\"\u001b[39m\u001b[38;5;124mUse `ainvoke` instead.\u001b[39m\u001b[38;5;124m\"\u001b[39m\n\u001b[0;32m   4716\u001b[0m     )\n",
      "File \u001b[1;32mc:\\Users\\hasee\\miniconda3\\envs\\rag\\lib\\site-packages\\langchain_core\\runnables\\base.py:1923\u001b[0m, in \u001b[0;36mRunnable._call_with_config\u001b[1;34m(self, func, input, config, run_type, serialized, **kwargs)\u001b[0m\n\u001b[0;32m   1919\u001b[0m     context \u001b[38;5;241m=\u001b[39m copy_context()\n\u001b[0;32m   1920\u001b[0m     context\u001b[38;5;241m.\u001b[39mrun(_set_config_context, child_config)\n\u001b[0;32m   1921\u001b[0m     output \u001b[38;5;241m=\u001b[39m cast(\n\u001b[0;32m   1922\u001b[0m         Output,\n\u001b[1;32m-> 1923\u001b[0m         context\u001b[38;5;241m.\u001b[39mrun(\n\u001b[0;32m   1924\u001b[0m             call_func_with_variable_args,  \u001b[38;5;66;03m# type: ignore[arg-type]\u001b[39;00m\n\u001b[0;32m   1925\u001b[0m             func,  \u001b[38;5;66;03m# type: ignore[arg-type]\u001b[39;00m\n\u001b[0;32m   1926\u001b[0m             \u001b[38;5;28minput\u001b[39m,  \u001b[38;5;66;03m# type: ignore[arg-type]\u001b[39;00m\n\u001b[0;32m   1927\u001b[0m             config,\n\u001b[0;32m   1928\u001b[0m             run_manager,\n\u001b[0;32m   1929\u001b[0m             \u001b[38;5;241m*\u001b[39m\u001b[38;5;241m*\u001b[39mkwargs,\n\u001b[0;32m   1930\u001b[0m         ),\n\u001b[0;32m   1931\u001b[0m     )\n\u001b[0;32m   1932\u001b[0m \u001b[38;5;28;01mexcept\u001b[39;00m \u001b[38;5;167;01mBaseException\u001b[39;00m \u001b[38;5;28;01mas\u001b[39;00m e:\n\u001b[0;32m   1933\u001b[0m     run_manager\u001b[38;5;241m.\u001b[39mon_chain_error(e)\n",
      "File \u001b[1;32mc:\\Users\\hasee\\miniconda3\\envs\\rag\\lib\\site-packages\\langchain_core\\runnables\\config.py:396\u001b[0m, in \u001b[0;36mcall_func_with_variable_args\u001b[1;34m(func, input, config, run_manager, **kwargs)\u001b[0m\n\u001b[0;32m    394\u001b[0m \u001b[38;5;28;01mif\u001b[39;00m run_manager \u001b[38;5;129;01mis\u001b[39;00m \u001b[38;5;129;01mnot\u001b[39;00m \u001b[38;5;28;01mNone\u001b[39;00m \u001b[38;5;129;01mand\u001b[39;00m accepts_run_manager(func):\n\u001b[0;32m    395\u001b[0m     kwargs[\u001b[38;5;124m\"\u001b[39m\u001b[38;5;124mrun_manager\u001b[39m\u001b[38;5;124m\"\u001b[39m] \u001b[38;5;241m=\u001b[39m run_manager\n\u001b[1;32m--> 396\u001b[0m \u001b[38;5;28;01mreturn\u001b[39;00m func(\u001b[38;5;28minput\u001b[39m, \u001b[38;5;241m*\u001b[39m\u001b[38;5;241m*\u001b[39mkwargs)\n",
      "File \u001b[1;32mc:\\Users\\hasee\\miniconda3\\envs\\rag\\lib\\site-packages\\langchain_core\\runnables\\base.py:4562\u001b[0m, in \u001b[0;36mRunnableLambda._invoke\u001b[1;34m(self, input, run_manager, config, **kwargs)\u001b[0m\n\u001b[0;32m   4560\u001b[0m                 output \u001b[38;5;241m=\u001b[39m chunk\n\u001b[0;32m   4561\u001b[0m \u001b[38;5;28;01melse\u001b[39;00m:\n\u001b[1;32m-> 4562\u001b[0m     output \u001b[38;5;241m=\u001b[39m call_func_with_variable_args(\n\u001b[0;32m   4563\u001b[0m         \u001b[38;5;28mself\u001b[39m\u001b[38;5;241m.\u001b[39mfunc, \u001b[38;5;28minput\u001b[39m, config, run_manager, \u001b[38;5;241m*\u001b[39m\u001b[38;5;241m*\u001b[39mkwargs\n\u001b[0;32m   4564\u001b[0m     )\n\u001b[0;32m   4565\u001b[0m \u001b[38;5;66;03m# If the output is a Runnable, invoke it\u001b[39;00m\n\u001b[0;32m   4566\u001b[0m \u001b[38;5;28;01mif\u001b[39;00m \u001b[38;5;28misinstance\u001b[39m(output, Runnable):\n",
      "File \u001b[1;32mc:\\Users\\hasee\\miniconda3\\envs\\rag\\lib\\site-packages\\langchain_core\\runnables\\config.py:396\u001b[0m, in \u001b[0;36mcall_func_with_variable_args\u001b[1;34m(func, input, config, run_manager, **kwargs)\u001b[0m\n\u001b[0;32m    394\u001b[0m \u001b[38;5;28;01mif\u001b[39;00m run_manager \u001b[38;5;129;01mis\u001b[39;00m \u001b[38;5;129;01mnot\u001b[39;00m \u001b[38;5;28;01mNone\u001b[39;00m \u001b[38;5;129;01mand\u001b[39;00m accepts_run_manager(func):\n\u001b[0;32m    395\u001b[0m     kwargs[\u001b[38;5;124m\"\u001b[39m\u001b[38;5;124mrun_manager\u001b[39m\u001b[38;5;124m\"\u001b[39m] \u001b[38;5;241m=\u001b[39m run_manager\n\u001b[1;32m--> 396\u001b[0m \u001b[38;5;28;01mreturn\u001b[39;00m func(\u001b[38;5;28minput\u001b[39m, \u001b[38;5;241m*\u001b[39m\u001b[38;5;241m*\u001b[39mkwargs)\n",
      "File \u001b[1;32mc:\\Users\\hasee\\Desktop\\Chabot\\OllamaRAG\\RAG.py:30\u001b[0m, in \u001b[0;36mRAG.__init__.<locals>.<lambda>\u001b[1;34m(input)\u001b[0m\n\u001b[0;32m     27\u001b[0m \u001b[38;5;28mself\u001b[39m\u001b[38;5;241m.\u001b[39mmodel \u001b[38;5;241m=\u001b[39m ChatOllama(model\u001b[38;5;241m=\u001b[39m\u001b[38;5;124m\"\u001b[39m\u001b[38;5;124mllama3.2:1b\u001b[39m\u001b[38;5;124m\"\u001b[39m)\n\u001b[0;32m     28\u001b[0m \u001b[38;5;28mself\u001b[39m\u001b[38;5;241m.\u001b[39mtext_splitter \u001b[38;5;241m=\u001b[39m RecursiveCharacterTextSplitter(chunk_size\u001b[38;5;241m=\u001b[39m\u001b[38;5;241m500\u001b[39m, chunk_overlap\u001b[38;5;241m=\u001b[39m\u001b[38;5;241m0\u001b[39m)\n\u001b[0;32m     29\u001b[0m \u001b[38;5;28mself\u001b[39m\u001b[38;5;241m.\u001b[39mchain \u001b[38;5;241m=\u001b[39m (\n\u001b[1;32m---> 30\u001b[0m     RunnablePassthrough\u001b[38;5;241m.\u001b[39massign(context\u001b[38;5;241m=\u001b[39m\u001b[38;5;28;01mlambda\u001b[39;00m \u001b[38;5;28minput\u001b[39m: \u001b[38;5;124;43m\"\u001b[39;49m\u001b[38;5;130;43;01m\\n\u001b[39;49;00m\u001b[38;5;130;43;01m\\n\u001b[39;49;00m\u001b[38;5;124;43m\"\u001b[39;49m\u001b[38;5;241;43m.\u001b[39;49m\u001b[43mjoin\u001b[49m\u001b[43m(\u001b[49m\u001b[43mdoc\u001b[49m\u001b[38;5;241;43m.\u001b[39;49m\u001b[43mpage_content\u001b[49m\u001b[43m \u001b[49m\u001b[38;5;28;43;01mfor\u001b[39;49;00m\u001b[43m \u001b[49m\u001b[43mdoc\u001b[49m\u001b[43m \u001b[49m\u001b[38;5;129;43;01min\u001b[39;49;00m\u001b[43m \u001b[49m\u001b[38;5;28;43minput\u001b[39;49m\u001b[43m[\u001b[49m\u001b[38;5;124;43m\"\u001b[39;49m\u001b[38;5;124;43mcontext\u001b[39;49m\u001b[38;5;124;43m\"\u001b[39;49m\u001b[43m]\u001b[49m\u001b[43m)\u001b[49m)\n\u001b[0;32m     31\u001b[0m     \u001b[38;5;241m|\u001b[39m \u001b[38;5;28mself\u001b[39m\u001b[38;5;241m.\u001b[39mrag_prompt\n\u001b[0;32m     32\u001b[0m     \u001b[38;5;241m|\u001b[39m \u001b[38;5;28mself\u001b[39m\u001b[38;5;241m.\u001b[39mmodel\n\u001b[0;32m     33\u001b[0m     \u001b[38;5;241m|\u001b[39m StrOutputParser()\n\u001b[0;32m     34\u001b[0m )\n",
      "File \u001b[1;32mc:\\Users\\hasee\\Desktop\\Chabot\\OllamaRAG\\RAG.py:30\u001b[0m, in \u001b[0;36m<genexpr>\u001b[1;34m(.0)\u001b[0m\n\u001b[0;32m     27\u001b[0m \u001b[38;5;28mself\u001b[39m\u001b[38;5;241m.\u001b[39mmodel \u001b[38;5;241m=\u001b[39m ChatOllama(model\u001b[38;5;241m=\u001b[39m\u001b[38;5;124m\"\u001b[39m\u001b[38;5;124mllama3.2:1b\u001b[39m\u001b[38;5;124m\"\u001b[39m)\n\u001b[0;32m     28\u001b[0m \u001b[38;5;28mself\u001b[39m\u001b[38;5;241m.\u001b[39mtext_splitter \u001b[38;5;241m=\u001b[39m RecursiveCharacterTextSplitter(chunk_size\u001b[38;5;241m=\u001b[39m\u001b[38;5;241m500\u001b[39m, chunk_overlap\u001b[38;5;241m=\u001b[39m\u001b[38;5;241m0\u001b[39m)\n\u001b[0;32m     29\u001b[0m \u001b[38;5;28mself\u001b[39m\u001b[38;5;241m.\u001b[39mchain \u001b[38;5;241m=\u001b[39m (\n\u001b[1;32m---> 30\u001b[0m     RunnablePassthrough\u001b[38;5;241m.\u001b[39massign(context\u001b[38;5;241m=\u001b[39m\u001b[38;5;28;01mlambda\u001b[39;00m \u001b[38;5;28minput\u001b[39m: \u001b[38;5;124m\"\u001b[39m\u001b[38;5;130;01m\\n\u001b[39;00m\u001b[38;5;130;01m\\n\u001b[39;00m\u001b[38;5;124m\"\u001b[39m\u001b[38;5;241m.\u001b[39mjoin(\u001b[43mdoc\u001b[49m\u001b[38;5;241;43m.\u001b[39;49m\u001b[43mpage_content\u001b[49m \u001b[38;5;28;01mfor\u001b[39;00m doc \u001b[38;5;129;01min\u001b[39;00m \u001b[38;5;28minput\u001b[39m[\u001b[38;5;124m\"\u001b[39m\u001b[38;5;124mcontext\u001b[39m\u001b[38;5;124m\"\u001b[39m]))\n\u001b[0;32m     31\u001b[0m     \u001b[38;5;241m|\u001b[39m \u001b[38;5;28mself\u001b[39m\u001b[38;5;241m.\u001b[39mrag_prompt\n\u001b[0;32m     32\u001b[0m     \u001b[38;5;241m|\u001b[39m \u001b[38;5;28mself\u001b[39m\u001b[38;5;241m.\u001b[39mmodel\n\u001b[0;32m     33\u001b[0m     \u001b[38;5;241m|\u001b[39m StrOutputParser()\n\u001b[0;32m     34\u001b[0m )\n",
      "\u001b[1;31mAttributeError\u001b[0m: 'str' object has no attribute 'page_content'"
     ]
    }
   ],
   "source": [
    "answer, context = rag.askQuestion(\"What is the smoking policy?\")"
   ]
  },
  {
   "cell_type": "code",
   "execution_count": 3,
   "metadata": {},
   "outputs": [
    {
     "name": "stdout",
     "output_type": "stream",
     "text": [
      "the Employee has such an illness. h. Smoking Policy Our goal is to provide a healthy and pleasant work environment for all employees. Company prohibits any form of tobacco use on Company premises. Smoking is only allowed in private vehicles 25 feet away from building. If your job is outside, and you continue to work efficiently while smoking, you do not need to punch out while smoking. However , if you are working inside or can not continue to work while smoking, then you must punch out while\n"
     ]
    }
   ],
   "source": [
    "print(context)"
   ]
  },
  {
   "cell_type": "code",
   "execution_count": 4,
   "metadata": {},
   "outputs": [
    {
     "name": "stdout",
     "output_type": "stream",
     "text": [
      "The company has a smoking policy that prohibits any form of tobacco use on Company premises, except for private vehicles 25 feet away from the building. Smoking is only allowed in private vehicles and not inside buildings or workplaces where employees are required to remain while working. Employees who smoke must punch out immediately if they continue to work while smoking, as this could result in termination.\n"
     ]
    }
   ],
   "source": [
    "print(answer)"
   ]
  },
  {
   "cell_type": "code",
   "execution_count": 10,
   "metadata": {},
   "outputs": [
    {
     "name": "stdout",
     "output_type": "stream",
     "text": [
      "[Document(metadata={'page': 5, 'source': 'C:\\\\Users\\\\hasee\\\\Desktop\\\\Chabot\\\\geminiChromaRAG\\\\Employee Handbook.pdf'}, page_content='the\\nEmployee\\nhas\\nsuch\\nan\\nillness.\\nh.\\nSmoking\\nPolicy\\nOur\\ngoal\\nis\\nto\\nprovide\\na\\nhealthy\\nand\\npleasant\\nwork\\nenvironment\\nfor\\nall\\nemployees.\\nCompany\\nprohibits\\nany\\nform\\nof\\ntobacco\\nuse\\non\\nCompany\\npremises.\\nSmoking\\nis\\nonly\\nallowed\\nin\\nprivate\\nvehicles\\n25\\nfeet\\naway\\nfrom\\nbuilding.\\nIf\\nyour\\njob\\nis\\noutside,\\nand\\nyou\\ncontinue\\nto\\nwork\\nefficiently\\nwhile\\nsmoking,\\nyou\\ndo\\nnot\\nneed\\nto\\npunch\\nout\\nwhile\\nsmoking.\\nHowever ,\\nif\\nyou\\nare\\nworking\\ninside\\nor\\ncan\\nnot\\ncontinue\\nto\\nwork\\nwhile\\nsmoking,\\nthen\\nyou\\nmust\\npunch\\nout\\nwhile'), Document(metadata={'page': 5, 'source': 'C:\\\\Users\\\\hasee\\\\Desktop\\\\Chabot\\\\geminiChromaRAG\\\\Employee Handbook.pdf'}, page_content='smoking\\nor\\nyou\\nwill\\nbe\\nterminated\\nimmediately .\\nIf\\nyou\\nare\\nin\\na\\nposition\\nof\\ncustomer\\nservice\\nthat\\nrequires\\na\\nconstant\\npresence,\\nlike\\nanswering\\nthe\\nphone\\nthen\\nyou\\ncan\\nnot\\nsmoke\\nat\\nany\\ntime\\non\\nthe\\npremises.\\ni.\\nImmigration\\nLaw\\nCompliance\\nThe\\nCompany\\ndoes\\nnot\\nunlawfully\\ndiscriminate\\non\\nthe\\nbasis\\nof\\ncitizenship\\nor\\nnational\\norigin,\\nbut\\nat\\nthe\\nsame\\ntime,\\nis\\ncommitted\\nto\\nemploying\\nonly\\nthe\\nU.S.\\ncitizens\\nand\\naliens\\nwho\\nare\\nauthorized\\nto\\nwork\\nin\\nthe\\nU.S.\\nIn\\ncompliance\\nwith\\nthe\\nImmigration\\nReform\\nand'), Document(metadata={'page': 29, 'source': 'C:\\\\Users\\\\hasee\\\\Desktop\\\\Chabot\\\\geminiChromaRAG\\\\Employee Handbook.pdf'}, page_content='your\\nsupervisor\\nand\\nto\\nLaurie\\nGreene.\\nYou\\nmay\\nleave\\na\\nvoice\\nmail\\nif\\nshe\\nis\\nnot\\navailable.\\nIn\\nthe\\nevent\\nof\\na\\nserious\\ninjury ,\\narrangements\\nwill\\nbe\\nmade\\nto\\ntake\\nyou\\nto\\nthe\\nhospital.\\nOnly\\nauthorized\\npersonnel\\nmay\\ndispense\\nfirst-aid\\nsupplies.\\nJ.\\nSubstance\\nAbuse\\nPolicy\\nCompany\\ntakes\\nseriously\\nthe\\nproblem\\nof\\ndrug\\nand\\nalcohol\\nabuse\\nand\\nis\\ncommitted\\nto\\nproviding\\na\\nwork-place\\nfree\\nof\\nsuch\\nsubstances.\\nThis\\npolicy\\napplies\\nto\\nall\\nemployees\\nof\\nthe\\nCompany .\\nNo\\nemployee\\nis\\nallowed\\nto\\nconsume,\\npossess,\\nor'), Document(metadata={'page': 5, 'source': 'C:\\\\Users\\\\hasee\\\\Desktop\\\\Chabot\\\\geminiChromaRAG\\\\Employee Handbook.pdf'}, page_content='employment\\nverification,\\ncredit\\nscore,\\nand\\ncriminal\\nhistory .\\nh.\\nDrug\\nTesting\\nPolicy\\nThe\\nCompany\\nhas\\na\\ndrug\\nand\\nalcohol\\ntesting\\npolicy ,\\ncurrent\\nand\\nprospective\\nemployees\\nwho\\nwok\\nor\\nwould\\nwork\\nin\\nhigh-risk\\nor\\nsafety-sensitive\\npositions\\nwill\\nbe\\nasked\\nto\\nsubmit\\nto\\ndrug\\nand\\nalcohol\\ntesting.\\nNo\\nprospective\\nemployee\\nwill\\nbe\\nasked\\nto\\nsubmit\\nto\\ntesting\\nunless\\nan\\noffer\\nof\\nemployment\\nhas\\nbeen\\nmade.\\nAn\\noffer,\\nhowever ,\\nis\\nconditioned\\non\\nthe\\nprospective\\nemployee\\ntesting\\nnegative\\nfor\\ndrugs\\nand\\nalcohol.\\nh.'), Document(metadata={'page': 31, 'source': 'C:\\\\Users\\\\hasee\\\\Desktop\\\\Chabot\\\\geminiChromaRAG\\\\Employee Handbook.pdf'}, page_content='Human\\nResources\\nDepartment.\\nO.\\nGratuities/Gifts\\nEmployees\\nmay\\nnot\\naccept\\ngifts\\nfrom\\nbusiness-related\\nsources\\nincluding\\nfree\\nmeals.\\nP.\\nFire\\nPrevention\\nFire\\nis\\nalways\\na\\nhazard\\nin\\nany\\nplant\\nin\\nwhich\\ncombustible\\nmaterials\\nare\\nused.\\nIn\\nmany ,\\nbut\\nnot\\nall\\nbuildings,\\nautomatic\\nsprinklers\\nhave\\nbeen\\ninstalled\\nto\\nminimize\\nthe\\neffect\\nof\\nany\\nfire\\nwhich\\nmight\\ndevelop.\\nHowever ,\\nminor\\nfires\\ncan\\ndevelop\\nwhich\\ncan\\nquickly\\nbe\\nbrought\\nunder\\ncontrol\\nby\\ncareful\\nadherence\\nto\\nour\\nfire\\nprevention\\npolicies.\\nEach')]\n"
     ]
    }
   ],
   "source": [
    "print(docs)"
   ]
  },
  {
   "cell_type": "code",
   "execution_count": 9,
   "metadata": {},
   "outputs": [
    {
     "name": "stdout",
     "output_type": "stream",
     "text": [
      "the Employee has such an illness. h. Smoking Policy Our goal is to provide a healthy and pleasant work environment for all employees. Company prohibits any form of tobacco use on Company premises. Smoking is only allowed in private vehicles 25 feet away from building. If your job is outside, and you continue to work efficiently while smoking, you do not need to punch out while smoking. However , if you are working inside or can not continue to work while smoking, then you must punch out while\n",
      "\n",
      "\n",
      "smoking or you will be terminated immediately . If you are in a position of customer service that requires a constant presence, like answering the phone then you can not smoke at any time on the premises. i. Immigration Law Compliance The Company does not unlawfully discriminate on the basis of citizenship or national origin, but at the same time, is committed to employing only the U.S. citizens and aliens who are authorized to work in the U.S. In compliance with the Immigration Reform and\n",
      "\n",
      "\n",
      "your supervisor and to Laurie Greene. You may leave a voice mail if she is not available. In the event of a serious injury , arrangements will be made to take you to the hospital. Only authorized personnel may dispense first-aid supplies. J. Substance Abuse Policy Company takes seriously the problem of drug and alcohol abuse and is committed to providing a work-place free of such substances. This policy applies to all employees of the Company . No employee is allowed to consume, possess, or\n",
      "\n",
      "\n",
      "employment verification, credit score, and criminal history . h. Drug Testing Policy The Company has a drug and alcohol testing policy , current and prospective employees who wok or would work in high-risk or safety-sensitive positions will be asked to submit to drug and alcohol testing. No prospective employee will be asked to submit to testing unless an offer of employment has been made. An offer, however , is conditioned on the prospective employee testing negative for drugs and alcohol. h.\n",
      "\n",
      "\n",
      "Human Resources Department. O. Gratuities/Gifts Employees may not accept gifts from business-related sources including free meals. P. Fire Prevention Fire is always a hazard in any plant in which combustible materials are used. In many , but not all buildings, automatic sprinklers have been installed to minimize the effect of any fire which might develop. However , minor fires can develop which can quickly be brought under control by careful adherence to our fire prevention policies. Each\n",
      "\n",
      "\n"
     ]
    }
   ],
   "source": [
    "for i in docs:\n",
    "    print(i.page_content.replace(\"\\n\", \" \"))\n",
    "    print(\"\\n\")\n"
   ]
  }
 ],
 "metadata": {
  "kernelspec": {
   "display_name": "gemini",
   "language": "python",
   "name": "python3"
  },
  "language_info": {
   "codemirror_mode": {
    "name": "ipython",
    "version": 3
   },
   "file_extension": ".py",
   "mimetype": "text/x-python",
   "name": "python",
   "nbconvert_exporter": "python",
   "pygments_lexer": "ipython3",
   "version": "3.10.14"
  }
 },
 "nbformat": 4,
 "nbformat_minor": 2
}
